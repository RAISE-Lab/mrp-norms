{
 "cells": [
  {
   "cell_type": "markdown",
   "id": "3a96d70b",
   "metadata": {},
   "source": [
    "# Test Jupyter Notebook\n",
    "Test code to move MRP around with rospy."
   ]
  },
  {
   "cell_type": "code",
   "execution_count": 1,
   "id": "0b929901",
   "metadata": {},
   "outputs": [],
   "source": [
    "import rospy\n",
    "from geometry_msgs.msg import Twist\n",
    "\n",
    "import tf\n",
    "from gazebo_msgs.msg import ModelState\n",
    "from gazebo_msgs.srv import GetModelState\n",
    "from gazebo_msgs.srv import SetModelState"
   ]
  },
  {
   "cell_type": "markdown",
   "id": "8234610e",
   "metadata": {},
   "source": [
    "## Moving MRP around"
   ]
  },
  {
   "cell_type": "code",
   "execution_count": 2,
   "id": "415a48d0",
   "metadata": {},
   "outputs": [],
   "source": [
    "rospy.init_node('test_node', anonymous=True)"
   ]
  },
  {
   "cell_type": "code",
   "execution_count": 7,
   "id": "3bac9b4d",
   "metadata": {},
   "outputs": [],
   "source": [
    "pub = rospy.Publisher('/tb_cmd_vel', Twist, queue_size=10)\n",
    "\n",
    "message = Twist()\n",
    "message.linear.x = 0.2\n",
    "\n",
    "pub.publish(message)"
   ]
  },
  {
   "cell_type": "code",
   "execution_count": 6,
   "id": "79982e65",
   "metadata": {},
   "outputs": [],
   "source": [
    "message.linear.x = 0\n",
    "message.angular.z = -0.3\n",
    "\n",
    "pub.publish(message)"
   ]
  },
  {
   "cell_type": "code",
   "execution_count": 8,
   "id": "dc6982df",
   "metadata": {},
   "outputs": [],
   "source": [
    "message.linear.x = 0\n",
    "message.angular.z = 0\n",
    "\n",
    "pub.publish(message)"
   ]
  },
  {
   "cell_type": "code",
   "execution_count": null,
   "id": "bc54527c",
   "metadata": {},
   "outputs": [],
   "source": []
  },
  {
   "cell_type": "markdown",
   "id": "97b78937",
   "metadata": {},
   "source": [
    "## Moving human actor around"
   ]
  },
  {
   "cell_type": "code",
   "execution_count": 3,
   "id": "658cd859",
   "metadata": {},
   "outputs": [],
   "source": [
    "get_state = rospy.ServiceProxy('/gazebo/get_model_state', GetModelState)\n",
    "set_state = rospy.ServiceProxy('/gazebo/set_model_state', SetModelState)"
   ]
  },
  {
   "cell_type": "code",
   "execution_count": 8,
   "id": "12ce4190",
   "metadata": {},
   "outputs": [
    {
     "name": "stdout",
     "output_type": "stream",
     "text": [
      "x: 1.2030975710714823e-05\n",
      "y: 0.0006976893064481412\n",
      "z: -1.1799545412416457e-06\n",
      "x: 4.3398091044451023e-07\n",
      "y: 1.5062771152166896e-06\n",
      "z: 0.00013370358047506276\n",
      "w: 0.9999999910604478\n"
     ]
    }
   ],
   "source": [
    "person_state = None\n",
    "rospy.wait_for_service('/gazebo/get_model_state')\n",
    "\n",
    "try:\n",
    "    robot_state = get_state(\"local_user\", \"world\")\n",
    "    assert robot_state.success is True\n",
    "except rospy.ServiceException:\n",
    "    print(\"/gazebo/get_model_state service call failed\")\n",
    "\n",
    "position = robot_state.pose.position\n",
    "orientation = robot_state.pose.orientation\n",
    "print(position)\n",
    "print(orientation)"
   ]
  },
  {
   "cell_type": "code",
   "execution_count": 33,
   "id": "aa7daad1",
   "metadata": {},
   "outputs": [],
   "source": [
    "# rospy.init_node('set_pose')\n",
    "\n",
    "state_msg = ModelState()\n",
    "state_msg.model_name = 'local_user'\n",
    "state_msg.pose.position.x = 2\n",
    "state_msg.pose.position.y = 2\n",
    "state_msg.pose.position.z = 0\n",
    "\n",
    "theta = 2.5\n",
    "quaternion = tf.transformations.quaternion_from_euler(0, 0, theta)\n",
    "state_msg.pose.orientation.x = quaternion[0]\n",
    "state_msg.pose.orientation.y = quaternion[1]\n",
    "state_msg.pose.orientation.z = quaternion[2]\n",
    "state_msg.pose.orientation.w = quaternion[3]\n",
    "\n",
    "rospy.wait_for_service('/gazebo/set_model_state')\n",
    "try:\n",
    "    set_state = rospy.ServiceProxy('/gazebo/set_model_state', SetModelState)\n",
    "    resp = set_state(state_msg)\n",
    "except rospy.ServiceException:\n",
    "    print (\"Service call failed: %s\" % str(rospy.ServiceException))"
   ]
  },
  {
   "cell_type": "code",
   "execution_count": 31,
   "id": "d682dc7d",
   "metadata": {},
   "outputs": [],
   "source": [
    "delta_t = -0.01\n",
    "\n",
    "for _ in range(200):\n",
    "    state_msg.model_name = 'local_user'\n",
    "    state_msg.pose.position.x += delta_t\n",
    "    state_msg.pose.position.y = 0\n",
    "    state_msg.pose.position.z = 0\n",
    "\n",
    "    theta += delta_t\n",
    "    quaternion = tf.transformations.quaternion_from_euler(0, 0, theta)\n",
    "    state_msg.pose.orientation.x = quaternion[0]\n",
    "    state_msg.pose.orientation.y = quaternion[1]\n",
    "    state_msg.pose.orientation.z = quaternion[2]\n",
    "    state_msg.pose.orientation.w = quaternion[3]\n",
    "\n",
    "    rospy.wait_for_service('/gazebo/set_model_state')\n",
    "    try:\n",
    "        set_state = rospy.ServiceProxy('/gazebo/set_model_state', SetModelState)\n",
    "        resp = set_state(state_msg)\n",
    "    except rospy.ServiceException:\n",
    "        print (\"Service call failed: %s\" % str(rospy.ServiceException))"
   ]
  },
  {
   "cell_type": "code",
   "execution_count": null,
   "id": "b8372b58",
   "metadata": {},
   "outputs": [],
   "source": []
  },
  {
   "cell_type": "markdown",
   "id": "1b1aceb7",
   "metadata": {},
   "source": [
    "## Animating elevator doors"
   ]
  },
  {
   "cell_type": "code",
   "execution_count": null,
   "id": "f8b94ccb",
   "metadata": {},
   "outputs": [],
   "source": [
    "get_state = rospy.ServiceProxy('/gazebo/get_model_state', GetModelState)\n",
    "set_state = rospy.ServiceProxy('/gazebo/set_model_state', SetModelState)"
   ]
  },
  {
   "cell_type": "code",
   "execution_count": 47,
   "id": "6e1f38d4",
   "metadata": {},
   "outputs": [],
   "source": [
    "def get_model_state_from_response(model_name, model_state_response):\n",
    "    new_model_state = ModelState()\n",
    "    new_model_state.model_name = model_name\n",
    "    \n",
    "    # copy over post and orientation\n",
    "    new_model_state.pose = model_state_response.pose\n",
    "    new_model_state.twist = model_state_response.twist\n",
    "    \n",
    "    return new_model_state"
   ]
  },
  {
   "cell_type": "code",
   "execution_count": 54,
   "id": "463c3cd3",
   "metadata": {},
   "outputs": [],
   "source": [
    "# get current door positions\n",
    "left_door_state_msg = None\n",
    "right_door_state_msg = None\n",
    "\n",
    "rospy.wait_for_service('/gazebo/get_model_state')\n",
    "\n",
    "try:\n",
    "    left_door_state_msg = get_state('elevator_door_left', 'world')\n",
    "    right_door_state_msg = get_state('elevator_door_right', 'world')\n",
    "    \n",
    "    assert left_door_state_msg.success is True\n",
    "    assert right_door_state_msg.success is True\n",
    "    \n",
    "except rospy.ServiceException:\n",
    "    print('/gazebo/get_model_state service call failed')"
   ]
  },
  {
   "cell_type": "code",
   "execution_count": 55,
   "id": "08a236ec",
   "metadata": {},
   "outputs": [],
   "source": [
    "left_door_state = get_model_state_from_response(\n",
    "    'elevator_door_left', left_door_state_msg)\n",
    "right_door_state = get_model_state_from_response(\n",
    "    'elevator_door_right', right_door_state_msg)"
   ]
  },
  {
   "cell_type": "code",
   "execution_count": 58,
   "id": "69ba7396",
   "metadata": {},
   "outputs": [],
   "source": [
    "delta_t = -0.01\n",
    "\n",
    "for _ in range(200):\n",
    "    left_door_state.pose.position.y -= delta_t\n",
    "    right_door_state.pose.position.y += delta_t\n",
    "\n",
    "    rospy.wait_for_service('/gazebo/set_model_state')\n",
    "    try:\n",
    "        set_state = rospy.ServiceProxy('/gazebo/set_model_state', SetModelState)\n",
    "        set_state(left_door_state)\n",
    "        set_state(right_door_state)\n",
    "        \n",
    "    except rospy.ServiceException:\n",
    "        print (\"Service call failed: %s\" % str(rospy.ServiceException))"
   ]
  },
  {
   "cell_type": "code",
   "execution_count": null,
   "id": "4110237f",
   "metadata": {},
   "outputs": [],
   "source": []
  },
  {
   "cell_type": "code",
   "execution_count": null,
   "id": "802d732a",
   "metadata": {},
   "outputs": [],
   "source": []
  },
  {
   "cell_type": "code",
   "execution_count": null,
   "id": "eb5931d1",
   "metadata": {},
   "outputs": [],
   "source": []
  }
 ],
 "metadata": {
  "kernelspec": {
   "display_name": "Python 3 (ipykernel)",
   "language": "python",
   "name": "python3"
  },
  "language_info": {
   "codemirror_mode": {
    "name": "ipython",
    "version": 3
   },
   "file_extension": ".py",
   "mimetype": "text/x-python",
   "name": "python",
   "nbconvert_exporter": "python",
   "pygments_lexer": "ipython3",
   "version": "3.8.10"
  }
 },
 "nbformat": 4,
 "nbformat_minor": 5
}
