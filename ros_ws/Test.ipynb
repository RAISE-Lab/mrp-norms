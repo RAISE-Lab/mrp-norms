{
 "cells": [
  {
   "cell_type": "markdown",
   "id": "3a96d70b",
   "metadata": {},
   "source": [
    "# Test Jupyter Notebook\n",
    "Test code to move MRP around with rospy."
   ]
  },
  {
   "cell_type": "markdown",
   "id": "8234610e",
   "metadata": {},
   "source": [
    "## Moving MRP around"
   ]
  },
  {
   "cell_type": "code",
   "execution_count": 4,
   "id": "26274abb",
   "metadata": {
    "scrolled": true
   },
   "outputs": [],
   "source": [
    "import rospy\n",
    "from geometry_msgs.msg import Twist"
   ]
  },
  {
   "cell_type": "code",
   "execution_count": 5,
   "id": "415a48d0",
   "metadata": {},
   "outputs": [],
   "source": [
    "rospy.init_node('test_node', anonymous=True)"
   ]
  },
  {
   "cell_type": "code",
   "execution_count": 13,
   "id": "3bac9b4d",
   "metadata": {},
   "outputs": [],
   "source": [
    "pub = rospy.Publisher('/tb_cmd_vel', Twist, queue_size=10)\n",
    "\n",
    "message = Twist()\n",
    "message.linear.x = 0.2\n",
    "\n",
    "pub.publish(message)"
   ]
  },
  {
   "cell_type": "code",
   "execution_count": 16,
   "id": "79982e65",
   "metadata": {},
   "outputs": [],
   "source": [
    "message.linear.x = 0\n",
    "message.angular.z = 0.3\n",
    "\n",
    "pub.publish(message)"
   ]
  },
  {
   "cell_type": "code",
   "execution_count": 17,
   "id": "dc6982df",
   "metadata": {},
   "outputs": [],
   "source": [
    "message.linear.x = 0\n",
    "message.angular.z = 0\n",
    "\n",
    "pub.publish(message)"
   ]
  },
  {
   "cell_type": "code",
   "execution_count": null,
   "id": "bc54527c",
   "metadata": {},
   "outputs": [],
   "source": []
  },
  {
   "cell_type": "markdown",
   "id": "97b78937",
   "metadata": {},
   "source": [
    "## Moving human actor around"
   ]
  },
  {
   "cell_type": "code",
   "execution_count": null,
   "id": "658cd859",
   "metadata": {},
   "outputs": [],
   "source": []
  }
 ],
 "metadata": {
  "kernelspec": {
   "display_name": "Python 3 (ipykernel)",
   "language": "python",
   "name": "python3"
  },
  "language_info": {
   "codemirror_mode": {
    "name": "ipython",
    "version": 3
   },
   "file_extension": ".py",
   "mimetype": "text/x-python",
   "name": "python",
   "nbconvert_exporter": "python",
   "pygments_lexer": "ipython3",
   "version": "3.8.10"
  }
 },
 "nbformat": 4,
 "nbformat_minor": 5
}
