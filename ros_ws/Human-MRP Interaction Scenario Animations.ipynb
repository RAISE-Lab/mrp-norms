{
 "cells": [
  {
   "cell_type": "markdown",
   "id": "c5a6d247",
   "metadata": {},
   "source": [
    "This notebook animates one of the human-MRP interactions for the study."
   ]
  },
  {
   "cell_type": "code",
   "execution_count": 1,
   "id": "0e4e854c",
   "metadata": {},
   "outputs": [],
   "source": [
    "import rospy\n",
    "from geometry_msgs.msg import Twist\n",
    "\n",
    "import tf\n",
    "from gazebo_msgs.msg import ModelState\n",
    "from gazebo_msgs.srv import GetModelState\n",
    "from gazebo_msgs.srv import SetModelState"
   ]
  },
  {
   "cell_type": "code",
   "execution_count": 2,
   "id": "97c5781d",
   "metadata": {},
   "outputs": [],
   "source": [
    "get_state = rospy.ServiceProxy('/gazebo/get_model_state', GetModelState)\n",
    "set_state = rospy.ServiceProxy('/gazebo/set_model_state', SetModelState)"
   ]
  },
  {
   "cell_type": "markdown",
   "id": "225def9a",
   "metadata": {},
   "source": [
    "## Helper Functions"
   ]
  },
  {
   "cell_type": "code",
   "execution_count": 3,
   "id": "6820dd06",
   "metadata": {},
   "outputs": [],
   "source": [
    "def get_model_state_from_response(model_name, model_state_response):\n",
    "    new_model_state = ModelState()\n",
    "    new_model_state.model_name = model_name\n",
    "    \n",
    "    # copy over post and orientation\n",
    "    new_model_state.pose = model_state_response.pose\n",
    "    new_model_state.twist = model_state_response.twist\n",
    "    \n",
    "    return new_model_state"
   ]
  },
  {
   "cell_type": "code",
   "execution_count": 4,
   "id": "b9b8fbda",
   "metadata": {},
   "outputs": [],
   "source": [
    "def get_world_state():\n",
    "    models = {\n",
    "        'tb_sim': None,\n",
    "        'local_user': None,\n",
    "        'elevator_door_left': None,\n",
    "        'elevator_door_right': None\n",
    "    }\n",
    "\n",
    "    rospy.wait_for_service('/gazebo/get_model_state')\n",
    "\n",
    "    try:\n",
    "        for model_name in models.keys():\n",
    "            model_msg = get_state(model_name, 'world')\n",
    "            \n",
    "            assert model_msg.success is True\n",
    "            \n",
    "            models[model_name] = get_model_state_from_response(\n",
    "                model_name, model_msg)\n",
    "\n",
    "    except rospy.ServiceException:\n",
    "        print('/gazebo/get_model_state service call failed')\n",
    "    \n",
    "    return models"
   ]
  },
  {
   "cell_type": "code",
   "execution_count": 5,
   "id": "048d3878",
   "metadata": {},
   "outputs": [],
   "source": [
    "def reset_world(models):\n",
    "    rospy.wait_for_service('/gazebo/set_model_state')\n",
    "    \n",
    "    try:\n",
    "        for model_name, model_state in models.items():\n",
    "            set_state = rospy.ServiceProxy('/gazebo/set_model_state', SetModelState)\n",
    "            \n",
    "            set_state(model_state)\n",
    "            \n",
    "    except rospy.ServiceException:\n",
    "        print (\"Service call failed: %s\" % str(rospy.ServiceException))"
   ]
  },
  {
   "cell_type": "markdown",
   "id": "9574285f",
   "metadata": {},
   "source": [
    "## Start Simulation"
   ]
  },
  {
   "cell_type": "code",
   "execution_count": 6,
   "id": "8ad94c45",
   "metadata": {},
   "outputs": [],
   "source": [
    "# before starting simulation, save the initial world state\n",
    "initial_world_state = get_world_state()"
   ]
  },
  {
   "cell_type": "code",
   "execution_count": 7,
   "id": "d84773d0",
   "metadata": {},
   "outputs": [],
   "source": [
    "def move_elevator_doors(direction):\n",
    "    models = get_world_state()\n",
    "    delta_t = direction * 0.01\n",
    "\n",
    "    left_door_state = models['elevator_door_left']\n",
    "    right_door_state = models['elevator_door_right']\n",
    "\n",
    "    for _ in range(100):\n",
    "        left_door_state.pose.position.y -= delta_t\n",
    "        right_door_state.pose.position.y += delta_t\n",
    "\n",
    "        rospy.wait_for_service('/gazebo/set_model_state')\n",
    "        try:\n",
    "            set_state = rospy.ServiceProxy('/gazebo/set_model_state', SetModelState)\n",
    "            set_state(left_door_state)\n",
    "            set_state(right_door_state)\n",
    "\n",
    "        except rospy.ServiceException:\n",
    "            print (\"Service call failed: %s\" % str(rospy.ServiceException))"
   ]
  },
  {
   "cell_type": "markdown",
   "id": "1d464b88",
   "metadata": {},
   "source": [
    "Elevator arrives."
   ]
  },
  {
   "cell_type": "code",
   "execution_count": 32,
   "id": "7b74124c",
   "metadata": {},
   "outputs": [],
   "source": [
    "move_elevator_doors(1)"
   ]
  },
  {
   "cell_type": "markdown",
   "id": "ff075745",
   "metadata": {},
   "source": [
    "Move MRP into elevator."
   ]
  },
  {
   "cell_type": "code",
   "execution_count": 9,
   "id": "5749f2a4",
   "metadata": {},
   "outputs": [],
   "source": [
    "rospy.init_node('test_node', anonymous=True)\n",
    "pub = rospy.Publisher('/tb_cmd_vel', Twist, queue_size=10)"
   ]
  },
  {
   "cell_type": "code",
   "execution_count": 35,
   "id": "f5435fb9",
   "metadata": {},
   "outputs": [],
   "source": [
    "message = Twist()\n",
    "\n",
    "message.linear.x = 0.2\n",
    "\n",
    "pub.publish(message)"
   ]
  },
  {
   "cell_type": "code",
   "execution_count": 36,
   "id": "4e0cfe2e",
   "metadata": {},
   "outputs": [],
   "source": [
    "message = Twist()\n",
    "\n",
    "message.linear.x = 0.2\n",
    "message.angular.z = 0.2\n",
    "\n",
    "pub.publish(message)"
   ]
  },
  {
   "cell_type": "code",
   "execution_count": 39,
   "id": "8a53464a",
   "metadata": {},
   "outputs": [],
   "source": [
    "message = Twist()\n",
    "\n",
    "message.angular.z = 0.7\n",
    "\n",
    "pub.publish(message)"
   ]
  },
  {
   "cell_type": "code",
   "execution_count": 40,
   "id": "f56ba442",
   "metadata": {},
   "outputs": [],
   "source": [
    "message = Twist()\n",
    "\n",
    "pub.publish(message)"
   ]
  },
  {
   "cell_type": "code",
   "execution_count": 41,
   "id": "870ffb63",
   "metadata": {},
   "outputs": [],
   "source": [
    "move_elevator_doors(-1)"
   ]
  },
  {
   "cell_type": "markdown",
   "id": "bfc0f976",
   "metadata": {},
   "source": [
    "Close elevator doors."
   ]
  },
  {
   "cell_type": "code",
   "execution_count": 31,
   "id": "a8d8edf1",
   "metadata": {},
   "outputs": [],
   "source": [
    "reset_world(initial_world_state)"
   ]
  },
  {
   "cell_type": "code",
   "execution_count": null,
   "id": "69f8cc90",
   "metadata": {},
   "outputs": [],
   "source": []
  }
 ],
 "metadata": {
  "kernelspec": {
   "display_name": "Python 3 (ipykernel)",
   "language": "python",
   "name": "python3"
  },
  "language_info": {
   "codemirror_mode": {
    "name": "ipython",
    "version": 3
   },
   "file_extension": ".py",
   "mimetype": "text/x-python",
   "name": "python",
   "nbconvert_exporter": "python",
   "pygments_lexer": "ipython3",
   "version": "3.8.10"
  }
 },
 "nbformat": 4,
 "nbformat_minor": 5
}
