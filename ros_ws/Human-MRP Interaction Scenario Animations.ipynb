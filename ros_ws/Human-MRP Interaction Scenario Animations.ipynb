{
 "cells": [
  {
   "cell_type": "markdown",
   "id": "c5a6d247",
   "metadata": {},
   "source": [
    "This notebook animates one of the human-MRP interactions for the study."
   ]
  },
  {
   "cell_type": "code",
   "execution_count": 1,
   "id": "0e4e854c",
   "metadata": {},
   "outputs": [],
   "source": [
    "import time\n",
    "\n",
    "import rospy\n",
    "from geometry_msgs.msg import Twist\n",
    "\n",
    "import tf\n",
    "from gazebo_msgs.msg import ModelState \n",
    "from gazebo_msgs.srv import GetModelState\n",
    "from gazebo_msgs.srv import SetModelState"
   ]
  },
  {
   "cell_type": "code",
   "execution_count": 2,
   "id": "97c5781d",
   "metadata": {},
   "outputs": [],
   "source": [
    "get_state = rospy.ServiceProxy('/gazebo/get_model_state', GetModelState)\n",
    "set_state = rospy.ServiceProxy('/gazebo/set_model_state', SetModelState)"
   ]
  },
  {
   "cell_type": "markdown",
   "id": "225def9a",
   "metadata": {},
   "source": [
    "## Helper Functions"
   ]
  },
  {
   "cell_type": "code",
   "execution_count": 3,
   "id": "6820dd06",
   "metadata": {},
   "outputs": [],
   "source": [
    "def get_model_state_from_response(model_name, model_state_response):\n",
    "    new_model_state = ModelState()\n",
    "    new_model_state.model_name = model_name\n",
    "    \n",
    "    # copy over post and orientation\n",
    "    new_model_state.pose = model_state_response.pose\n",
    "    new_model_state.twist = model_state_response.twist\n",
    "    \n",
    "    return new_model_state"
   ]
  },
  {
   "cell_type": "code",
   "execution_count": 4,
   "id": "b9b8fbda",
   "metadata": {},
   "outputs": [],
   "source": [
    "def get_world_state():\n",
    "    models = {\n",
    "        'tb_sim': None,\n",
    "        'local_user': None,\n",
    "        'elevator_door_left': None,\n",
    "        'elevator_door_right': None\n",
    "    }\n",
    "\n",
    "    rospy.wait_for_service('/gazebo/get_model_state')\n",
    "\n",
    "    try:\n",
    "        for model_name in models.keys():\n",
    "            model_msg = get_state(model_name, 'world')\n",
    "            \n",
    "            assert model_msg.success is True\n",
    "            \n",
    "            models[model_name] = get_model_state_from_response(\n",
    "                model_name, model_msg)\n",
    "\n",
    "    except rospy.ServiceException:\n",
    "        print('/gazebo/get_model_state service call failed')\n",
    "    \n",
    "    return models"
   ]
  },
  {
   "cell_type": "code",
   "execution_count": 5,
   "id": "048d3878",
   "metadata": {},
   "outputs": [],
   "source": [
    "def reset_world(models):\n",
    "    rospy.wait_for_service('/gazebo/set_model_state')\n",
    "    \n",
    "    try:\n",
    "        for model_name, model_state in models.items():\n",
    "            set_state = rospy.ServiceProxy('/gazebo/set_model_state', SetModelState)\n",
    "            \n",
    "            set_state(model_state)\n",
    "            \n",
    "    except rospy.ServiceException:\n",
    "        print (\"Service call failed: %s\" % str(rospy.ServiceException))"
   ]
  },
  {
   "cell_type": "code",
   "execution_count": 6,
   "id": "0515e983",
   "metadata": {},
   "outputs": [],
   "source": [
    "def move_elevator_doors(direction):\n",
    "    models = get_world_state()\n",
    "    delta_t = direction * 0.01\n",
    "\n",
    "    left_door_state = models['elevator_door_left']\n",
    "    right_door_state = models['elevator_door_right']\n",
    "\n",
    "    for _ in range(100):\n",
    "        left_door_state.pose.position.y -= delta_t\n",
    "        right_door_state.pose.position.y += delta_t\n",
    "\n",
    "        rospy.wait_for_service('/gazebo/set_model_state')\n",
    "        try:\n",
    "            set_state = rospy.ServiceProxy('/gazebo/set_model_state', SetModelState)\n",
    "            set_state(left_door_state)\n",
    "            set_state(right_door_state)\n",
    "\n",
    "        except rospy.ServiceException:\n",
    "            print (\"Service call failed: %s\" % str(rospy.ServiceException))"
   ]
  },
  {
   "cell_type": "code",
   "execution_count": 7,
   "id": "6e2479b1",
   "metadata": {},
   "outputs": [],
   "source": [
    "def get_local_user_state():\n",
    "    person_state = None\n",
    "    rospy.wait_for_service('/gazebo/get_model_state')\n",
    "\n",
    "    try:\n",
    "        person_state = get_state('local_user', 'world')\n",
    "        assert person_state.success is True\n",
    "    except rospy.ServiceException:\n",
    "        print(\"/gazebo/get_model_state service call failed\")\n",
    "        \n",
    "    return get_model_state_from_response('local_user', person_state)"
   ]
  },
  {
   "cell_type": "code",
   "execution_count": 8,
   "id": "f7d19c14",
   "metadata": {},
   "outputs": [],
   "source": [
    "def move_local_user(delta_x, delta_y, delta_z,\n",
    "                    delta_t, num_iters, current_state, current_theta):\n",
    "    \n",
    "    state_msg = current_state\n",
    "    theta = current_theta\n",
    "    \n",
    "    for _ in range(num_iters):\n",
    "        state_msg.model_name = 'local_user'\n",
    "        state_msg.pose.position.x += delta_x\n",
    "        state_msg.pose.position.y += delta_y\n",
    "        state_msg.pose.position.z += delta_z\n",
    "\n",
    "        theta += delta_t\n",
    "        quaternion = tf.transformations.quaternion_from_euler(0, 0, theta)\n",
    "        state_msg.pose.orientation.x = quaternion[0]\n",
    "        state_msg.pose.orientation.y = quaternion[1]\n",
    "        state_msg.pose.orientation.z = quaternion[2]\n",
    "        state_msg.pose.orientation.w = quaternion[3]\n",
    "\n",
    "        rospy.wait_for_service('/gazebo/set_model_state')\n",
    "        try:\n",
    "            set_state = rospy.ServiceProxy('/gazebo/set_model_state', SetModelState)\n",
    "            resp = set_state(state_msg)\n",
    "        except rospy.ServiceException:\n",
    "            print (\"Service call failed: %s\" % str(rospy.ServiceException))"
   ]
  },
  {
   "cell_type": "code",
   "execution_count": 9,
   "id": "722edc54",
   "metadata": {},
   "outputs": [],
   "source": [
    "# before starting simulation, save the initial world state\n",
    "initial_world_state = get_world_state()"
   ]
  },
  {
   "cell_type": "code",
   "execution_count": 10,
   "id": "f34655eb",
   "metadata": {},
   "outputs": [],
   "source": [
    "rospy.init_node('test_node', anonymous=True)\n",
    "pub = rospy.Publisher('/tb_cmd_vel', Twist, queue_size=10)"
   ]
  },
  {
   "cell_type": "markdown",
   "id": "f58915dd",
   "metadata": {},
   "source": [
    "## MRP is far away, MRP enters first"
   ]
  },
  {
   "cell_type": "code",
   "execution_count": 13,
   "id": "202d60c1",
   "metadata": {},
   "outputs": [],
   "source": [
    "# moves MRP to waiting area for elevator\n",
    "message = Twist()\n",
    "message.linear.x = 0.4\n",
    "pub.publish(message)\n",
    "time.sleep(25)\n",
    "\n",
    "# stop\n",
    "pub.publish(Twist())\n",
    "\n",
    "# elevator arrives\n",
    "time.sleep(5)\n",
    "move_elevator_doors(1)\n",
    "time.sleep(5)\n",
    "\n",
    "# move MRP to elevator\n",
    "message = Twist()\n",
    "message.linear.x = 0.4\n",
    "pub.publish(message)\n",
    "time.sleep(12)\n",
    "\n",
    "# turn into elevator\n",
    "message = Twist()\n",
    "message.linear.x = 0.4\n",
    "message.angular.z = 0.4\n",
    "pub.publish(message)\n",
    "time.sleep(12)\n",
    "\n",
    "# reposition\n",
    "message = Twist()\n",
    "message.angular.z = 0.4\n",
    "pub.publish(message)\n",
    "time.sleep(20)\n",
    "\n",
    "# stop\n",
    "pub.publish(Twist())\n",
    "\n",
    "# elevator leaves\n",
    "time.sleep(3)\n",
    "move_elevator_doors(-1)"
   ]
  },
  {
   "cell_type": "code",
   "execution_count": 18,
   "id": "7c081e07",
   "metadata": {},
   "outputs": [],
   "source": [
    "pub.publish(Twist())\n",
    "time.sleep(3)\n",
    "move_elevator_doors(-1)"
   ]
  },
  {
   "cell_type": "code",
   "execution_count": 12,
   "id": "bb0656c7",
   "metadata": {},
   "outputs": [],
   "source": [
    "pub.publish(Twist())\n",
    "reset_world(initial_world_state)"
   ]
  },
  {
   "cell_type": "markdown",
   "id": "c9d0b0c2",
   "metadata": {},
   "source": [
    "## MRP is far away, local user enters first"
   ]
  },
  {
   "cell_type": "code",
   "execution_count": 13,
   "id": "802e8b8e",
   "metadata": {},
   "outputs": [],
   "source": [
    "# moves MRP to waiting area for elevator\n",
    "message = Twist()\n",
    "message.linear.x = 0.4\n",
    "pub.publish(message)\n",
    "time.sleep(18)\n",
    "\n",
    "# stop\n",
    "pub.publish(Twist())\n",
    "\n",
    "# elevator arrives\n",
    "time.sleep(5)\n",
    "move_elevator_doors(1)\n",
    "time.sleep(5)\n",
    "\n",
    "# move local user towards elevator\n",
    "current_state = get_local_user_state()\n",
    "move_local_user(-0.005, -0.005, 0, 0, 225, current_state, -0.8)\n",
    "\n",
    "# turn towards elevator\n",
    "current_state = get_local_user_state()\n",
    "move_local_user(-0.005, -0.005, 0, -0.01, 80, current_state, -0.8)\n",
    "\n",
    "# enter elevator\n",
    "current_state = get_local_user_state()\n",
    "move_local_user(-0.005, 0, 0, 0, 230, current_state, -1.5)\n",
    "\n",
    "# turn around\n",
    "current_state = get_local_user_state()\n",
    "move_local_user(0, 0, 0, 0.01, 300, current_state, -1.5)\n",
    "\n",
    "# elevator leaves\n",
    "time.sleep(3)\n",
    "move_elevator_doors(-1)"
   ]
  },
  {
   "cell_type": "code",
   "execution_count": 12,
   "id": "19ff42e0",
   "metadata": {},
   "outputs": [],
   "source": [
    "pub.publish(Twist())\n",
    "reset_world(initial_world_state)"
   ]
  },
  {
   "cell_type": "markdown",
   "id": "9066b71b",
   "metadata": {},
   "source": [
    "## local user is far away, MRP enters first"
   ]
  },
  {
   "cell_type": "code",
   "execution_count": 16,
   "id": "44f71689",
   "metadata": {
    "collapsed": true
   },
   "outputs": [
    {
     "ename": "KeyboardInterrupt",
     "evalue": "",
     "output_type": "error",
     "traceback": [
      "\u001b[0;31m---------------------------------------------------------------------------\u001b[0m",
      "\u001b[0;31mKeyboardInterrupt\u001b[0m                         Traceback (most recent call last)",
      "\u001b[0;32m/tmp/ipykernel_7019/878074472.py\u001b[0m in \u001b[0;36m<module>\u001b[0;34m\u001b[0m\n\u001b[1;32m     25\u001b[0m \u001b[0mmessage\u001b[0m\u001b[0;34m.\u001b[0m\u001b[0mangular\u001b[0m\u001b[0;34m.\u001b[0m\u001b[0mz\u001b[0m \u001b[0;34m=\u001b[0m \u001b[0;36m0.4\u001b[0m\u001b[0;34m\u001b[0m\u001b[0;34m\u001b[0m\u001b[0m\n\u001b[1;32m     26\u001b[0m \u001b[0mpub\u001b[0m\u001b[0;34m.\u001b[0m\u001b[0mpublish\u001b[0m\u001b[0;34m(\u001b[0m\u001b[0mmessage\u001b[0m\u001b[0;34m)\u001b[0m\u001b[0;34m\u001b[0m\u001b[0;34m\u001b[0m\u001b[0m\n\u001b[0;32m---> 27\u001b[0;31m \u001b[0mtime\u001b[0m\u001b[0;34m.\u001b[0m\u001b[0msleep\u001b[0m\u001b[0;34m(\u001b[0m\u001b[0;36m25\u001b[0m\u001b[0;34m)\u001b[0m\u001b[0;34m\u001b[0m\u001b[0;34m\u001b[0m\u001b[0m\n\u001b[0m\u001b[1;32m     28\u001b[0m \u001b[0;34m\u001b[0m\u001b[0m\n\u001b[1;32m     29\u001b[0m \u001b[0;31m# stop\u001b[0m\u001b[0;34m\u001b[0m\u001b[0;34m\u001b[0m\u001b[0;34m\u001b[0m\u001b[0m\n",
      "\u001b[0;31mKeyboardInterrupt\u001b[0m: "
     ]
    }
   ],
   "source": [
    "# moves local user to waiting area for elevator\n",
    "current_state = get_local_user_state()\n",
    "move_local_user(-0.005, -0.01, 0, 0, 275, current_state, -0.8)\n",
    "\n",
    "# elevator arrives\n",
    "time.sleep(5)\n",
    "move_elevator_doors(1)\n",
    "time.sleep(5)\n",
    "\n",
    "# move MRP to elevator\n",
    "message = Twist()\n",
    "message.linear.x = 0.4\n",
    "pub.publish(message)\n",
    "time.sleep(17)\n",
    "\n",
    "# turn into elevator\n",
    "message = Twist()\n",
    "message.linear.x = 0.4\n",
    "message.angular.z = 0.4\n",
    "pub.publish(message)\n",
    "time.sleep(5)\n",
    "\n",
    "# reposition\n",
    "message = Twist()\n",
    "message.angular.z = 0.4\n",
    "pub.publish(message)\n",
    "time.sleep(25)\n",
    "\n",
    "# stop\n",
    "pub.publish(Twist())\n",
    "\n",
    "# elevator leaves\n",
    "time.sleep(3)\n",
    "move_elevator_doors(-1)"
   ]
  },
  {
   "cell_type": "code",
   "execution_count": 17,
   "id": "5eecddea",
   "metadata": {},
   "outputs": [],
   "source": [
    "pub.publish(Twist())\n",
    "time.sleep(3)\n",
    "move_elevator_doors(-1)"
   ]
  },
  {
   "cell_type": "code",
   "execution_count": 15,
   "id": "9bb10a95",
   "metadata": {},
   "outputs": [],
   "source": [
    "pub.publish(Twist())\n",
    "reset_world(initial_world_state)"
   ]
  },
  {
   "cell_type": "markdown",
   "id": "b68f0476",
   "metadata": {},
   "source": [
    "## local user is far away, local user enters first"
   ]
  },
  {
   "cell_type": "code",
   "execution_count": 11,
   "id": "044b10b5",
   "metadata": {},
   "outputs": [],
   "source": [
    "# moves local user to waiting area for elevator\n",
    "current_state = get_local_user_state()\n",
    "move_local_user(-0.005, -0.01, 0, 0, 275, current_state, -0.8)\n",
    "\n",
    "# elevator arrives\n",
    "time.sleep(5)\n",
    "move_elevator_doors(1)\n",
    "time.sleep(5)\n",
    "\n",
    "# move local user towards elevator\n",
    "current_state = get_local_user_state()\n",
    "move_local_user(-0.005, -0.005, 0, 0, 225, current_state, -0.8)\n",
    "\n",
    "# turn towards elevator\n",
    "current_state = get_local_user_state()\n",
    "move_local_user(-0.005, -0.005, 0, -0.01, 80, current_state, -0.8)\n",
    "\n",
    "# enter elevator\n",
    "current_state = get_local_user_state()\n",
    "move_local_user(-0.005, 0, 0, 0, 230, current_state, -1.5)\n",
    "\n",
    "# turn around\n",
    "current_state = get_local_user_state()\n",
    "move_local_user(0, 0, 0, 0.01, 300, current_state, -1.5)\n",
    "\n",
    "# elevator leaves\n",
    "time.sleep(5)\n",
    "move_elevator_doors(-1)"
   ]
  },
  {
   "cell_type": "code",
   "execution_count": 25,
   "id": "b932bdbf",
   "metadata": {},
   "outputs": [],
   "source": [
    "pub.publish(Twist())\n",
    "reset_world(initial_world_state)"
   ]
  },
  {
   "cell_type": "code",
   "execution_count": null,
   "id": "80bb3564",
   "metadata": {},
   "outputs": [],
   "source": []
  }
 ],
 "metadata": {
  "kernelspec": {
   "display_name": "Python 3 (ipykernel)",
   "language": "python",
   "name": "python3"
  },
  "language_info": {
   "codemirror_mode": {
    "name": "ipython",
    "version": 3
   },
   "file_extension": ".py",
   "mimetype": "text/x-python",
   "name": "python",
   "nbconvert_exporter": "python",
   "pygments_lexer": "ipython3",
   "version": "3.8.10"
  }
 },
 "nbformat": 4,
 "nbformat_minor": 5
}
